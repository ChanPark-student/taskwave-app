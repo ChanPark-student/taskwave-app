{
  "cells": [
    {
      "cell_type": "code",
      "execution_count": 8,
      "metadata": {
        "colab": {
          "base_uri": "https://localhost:8080/"
        },
        "id": "Rs-hHm0NKjB1",
        "outputId": "910e3d2b-1754-4bae-f6d8-08c34fbdd765"
      },
      "outputs": [
        {
          "name": "stdout",
          "output_type": "stream",
          "text": [
            "집토끼 :( 10 , 10 )\n",
            "산토끼 :( 100 , 200 )\n",
            "이승열\n",
            "학번: 211833\n"
          ]
        }
      ],
      "source": [
        "#[1]\n",
        "class Rabbit:\n",
        "    shape = \"\"   # 토끼 모양\n",
        "    xPos  = 0    # X 위치\n",
        "    yPos  = 0    # Y 위치\n",
        "\n",
        "    def __init__(self, shape_value, x, y):\n",
        "        self.shape = shape_value\n",
        "        self.xPos  = x\n",
        "        self.yPos  = y\n",
        "\n",
        "    def printRabbit(self):\n",
        "        print(self.shape, \":(\", self.xPos, \",\", self.yPos, \")\")\n",
        "\n",
        "\n",
        "rabbit1 = Rabbit(\"집토끼\", 10, 10)\n",
        "rabbit2 = Rabbit(\"산토끼\", 100, 200)\n",
        "\n",
        "rabbit1.printRabbit()\n",
        "rabbit2.printRabbit()\n",
        "\n",
        "print(\"이승열\")\n",
        "print(\"학번: 211833\")"
      ]
    },
    {
      "cell_type": "code",
      "execution_count": 9,
      "metadata": {
        "colab": {
          "base_uri": "https://localhost:8080/"
        },
        "id": "ZuK7Hs8LNe2w",
        "outputId": "72e632d4-4892-4761-9fe8-d384b7580815"
      },
      "outputs": [
        {
          "name": "stdout",
          "output_type": "stream",
          "text": [
            "집토끼 :( 10 , 20 )\n",
            "산토끼 :( 100 , 200 )\n",
            "이승열\n",
            "학번: 211833\n"
          ]
        }
      ],
      "source": [
        "#[1]\n",
        "class Rabbit:\n",
        "    shape = \"\"\n",
        "    xPos  = 0\n",
        "    yPos  = 0\n",
        "\n",
        "    def __init__(self, *args):\n",
        "        self.shape = args[0]\n",
        "        self.xPos  = args[1]\n",
        "        self.yPos  = args[2]\n",
        "\n",
        "    def printRabbit(self):\n",
        "        print(self.shape, \":(\", self.xPos, \",\", self.yPos, \")\")\n",
        "\n",
        "\n",
        "rabbit2 = Rabbit(\"집토끼\", 10, 20)\n",
        "rabbit2.printRabbit()\n",
        "\n",
        "rabbit3 = Rabbit(\"산토끼\", 100, 200, 400)\n",
        "rabbit3.printRabbit()          # 마지막 인수(400)는 무시됨\n",
        "print(\"이승열\")\n",
        "print(\"학번: 211833\")"
      ]
    },
    {
      "cell_type": "code",
      "execution_count": 10,
      "metadata": {
        "colab": {
          "base_uri": "https://localhost:8080/"
        },
        "id": "98J59YH2Ne5B",
        "outputId": "a3b814c1-b379-4e4c-e179-1ad9c9926620"
      },
      "outputs": [
        {
          "name": "stdout",
          "output_type": "stream",
          "text": [
            "집토끼 :( 10 , 15 )\n",
            "이승열\n",
            "학번: 211833\n"
          ]
        }
      ],
      "source": [
        "#[1]\n",
        "class Rabbit:\n",
        "    shape = \"\"\n",
        "    xPos  = 0\n",
        "    yPos  = 0\n",
        "\n",
        "    def __init__(self, **kwargs):\n",
        "        self.shape = kwargs[\"shape\"]\n",
        "        self.xPos  = kwargs[\"x\"]\n",
        "        self.yPos  = kwargs[\"y\"]\n",
        "\n",
        "    def printRabbit(self):\n",
        "        print(self.shape, \":(\", self.xPos, \",\", self.yPos, \")\")\n",
        "\n",
        "\n",
        "rabbit1 = Rabbit(shape=\"집토끼\", x=10, y=15)\n",
        "rabbit2 = Rabbit(**{\"shape\": \"산토끼\", \"x\": 100, \"y\": 200})\n",
        "\n",
        "rabbit3 = Rabbit(shape=\"집토끼\", x=10, y=15, other=\"extra\")  # 'other'는 무시\n",
        "rabbit3.printRabbit()\n",
        "# rabbit4 = Rabbit(shape=\"집토끼\", x=10, other=\"extra\")\n",
        "print(\"이승열\")\n",
        "print(\"학번: 211833\")"
      ]
    },
    {
      "cell_type": "code",
      "execution_count": 11,
      "metadata": {
        "colab": {
          "base_uri": "https://localhost:8080/"
        },
        "id": "luMuXDIXSaTE",
        "outputId": "98ae4a5a-c146-4505-8e91-58778b803f81"
      },
      "outputs": [
        {
          "name": "stdout",
          "output_type": "stream",
          "text": [
            "['책', '가위']\n",
            "['책', '가위']\n",
            "['책', '가위']\n",
            "이승열\n",
            "학번: 211833\n"
          ]
        }
      ],
      "source": [
        "#[2]\n",
        "\n",
        "class Rabbit:\n",
        "    bag = []  # 클래스 속성(모든 인스턴스가 공유)\n",
        "\n",
        "rabbit1 = Rabbit()\n",
        "rabbit2 = Rabbit()\n",
        "\n",
        "rabbit1.bag.append(\"책\")\n",
        "rabbit2.bag.append(\"가위\")\n",
        "\n",
        "print(rabbit1.bag)\n",
        "print(rabbit2.bag)\n",
        "print(Rabbit.bag)\n",
        "print(\"이승열\")\n",
        "print(\"학번: 211833\")"
      ]
    },
    {
      "cell_type": "code",
      "execution_count": 12,
      "metadata": {
        "colab": {
          "base_uri": "https://localhost:8080/"
        },
        "id": "TQQHq9EYSaoT",
        "outputId": "7e205a3a-24b5-4659-8bcf-cfeb613df9d3"
      },
      "outputs": [
        {
          "name": "stdout",
          "output_type": "stream",
          "text": [
            "['책']\n",
            "['가위']\n",
            "['김밥']\n",
            "['김밥']\n",
            "['김밥']\n",
            "이승열\n",
            "학번: 211833\n"
          ]
        }
      ],
      "source": [
        "#[2]\n",
        "\n",
        "class Rabbit:\n",
        "    sharedBag = []        # 클래스 속성(공유)\n",
        "\n",
        "    def __init__(self):\n",
        "        self.myBag = []   # 인스턴스 속성(각 객체별 개별)\n",
        "\n",
        "rabbit1 = Rabbit()\n",
        "rabbit2 = Rabbit()\n",
        "\n",
        "rabbit1.myBag.append(\"책\")\n",
        "rabbit2.myBag.append(\"가위\")\n",
        "Rabbit.sharedBag.append(\"김밥\")\n",
        "\n",
        "print(rabbit1.myBag)\n",
        "print(rabbit2.myBag)\n",
        "print(rabbit1.sharedBag)\n",
        "print(rabbit2.sharedBag)\n",
        "print(Rabbit.sharedBag)\n",
        "print(\"이승열\")\n",
        "print(\"학번: 211833\")"
      ]
    },
    {
      "cell_type": "code",
      "execution_count": 13,
      "metadata": {
        "colab": {
          "base_uri": "https://localhost:8080/"
        },
        "id": "qI3I5WvfNe7j",
        "outputId": "347d07e3-7c74-4ed8-94cf-c3e83450189d"
      },
      "outputs": [
        {
          "name": "stdout",
          "output_type": "stream",
          "text": [
            "이승열\n",
            "학번: 211833\n"
          ]
        }
      ],
      "source": [
        "#[3]\n",
        "\n",
        "class Rabbit:\n",
        "    shape = \"\"\n",
        "    __wallet = 1000          # 비공개 속성\n",
        "\n",
        "rabbit1 = Rabbit()\n",
        "rabbit1.shape = \"집토끼\"\n",
        "# print(rabbit1.__wallet)   # AttributeError 발생\n",
        "print(\"이승열\")\n",
        "print(\"학번: 211833\")"
      ]
    },
    {
      "cell_type": "code",
      "execution_count": 14,
      "metadata": {
        "colab": {
          "base_uri": "https://localhost:8080/"
        },
        "id": "NM-5b8r-Ne9_",
        "outputId": "b9b2a15f-323c-464d-e092-7c2e10b37d83"
      },
      "outputs": [
        {
          "name": "stdout",
          "output_type": "stream",
          "text": [
            "900\n",
            "이승열\n",
            "학번: 211833\n"
          ]
        }
      ],
      "source": [
        "#[3]\n",
        "\n",
        "class Rabbit:\n",
        "    shape = \"\"\n",
        "    __wallet = 1000          # 비공개 속성\n",
        "\n",
        "    def __useWallet(self, payment):  # 비공개 메서드\n",
        "        self.__wallet -= payment\n",
        "\n",
        "    def pay(self, payment):\n",
        "        self.__useWallet(payment)\n",
        "\n",
        "    def printWallet(self):\n",
        "        print(self.__wallet)\n",
        "\n",
        "\n",
        "rabbit1 = Rabbit()\n",
        "rabbit1.pay(100)\n",
        "rabbit1.printWallet()\n",
        "# rabbit1.__useWallet(100)  # AttributeError 발생\n",
        "print(\"이승열\")\n",
        "print(\"학번: 211833\")"
      ]
    },
    {
      "cell_type": "code",
      "execution_count": 15,
      "metadata": {
        "colab": {
          "base_uri": "https://localhost:8080/"
        },
        "id": "yuvuZP0UNfAe",
        "outputId": "735869c3-77b1-448c-f958-db6e9f6edf4f"
      },
      "outputs": [
        {
          "name": "stdout",
          "output_type": "stream",
          "text": [
            "토끼 1 마리\n",
            "토끼 2 마리\n",
            "이승열\n",
            "학번: 211833\n"
          ]
        }
      ],
      "source": [
        "#[3]\n",
        "\n",
        "class Rabbit:\n",
        "    count = 0                      # 클래스 속성\n",
        "\n",
        "    def __init__(self):\n",
        "        Rabbit.count += 1\n",
        "\n",
        "    @classmethod\n",
        "    def printCount(cls):\n",
        "        print(\"토끼\", cls.count, \"마리\")\n",
        "\n",
        "\n",
        "rabbit1 = Rabbit()\n",
        "Rabbit.printCount()\n",
        "rabbit2 = Rabbit()\n",
        "Rabbit.printCount()\n",
        "print(\"이승열\")\n",
        "print(\"학번: 211833\")"
      ]
    },
    {
      "cell_type": "code",
      "execution_count": 16,
      "metadata": {
        "colab": {
          "base_uri": "https://localhost:8080/"
        },
        "id": "Nz2Tu7p1NfDG",
        "outputId": "12270135-11ca-4e6d-8806-d42829c635bd"
      },
      "outputs": [
        {
          "name": "stdout",
          "output_type": "stream",
          "text": [
            "30\n",
            "-10\n",
            "이승열\n",
            "학번: 211833\n"
          ]
        }
      ],
      "source": [
        "#[3]\n",
        "\n",
        "class Calc:\n",
        "    @staticmethod\n",
        "    def add(a, b):\n",
        "        print(a + b)\n",
        "\n",
        "    @staticmethod\n",
        "    def sub(a, b):\n",
        "        print(a - b)\n",
        "\n",
        "\n",
        "Calc.add(10, 20)\n",
        "Calc.sub(10, 20)\n",
        "print(\"이승열\")\n",
        "print(\"학번: 211833\")"
      ]
    },
    {
      "cell_type": "code",
      "execution_count": 17,
      "metadata": {
        "colab": {
          "base_uri": "https://localhost:8080/"
        },
        "id": "ElswrDsDNfFO",
        "outputId": "63a0433e-6a60-4127-a264-0e704a73997c"
      },
      "outputs": [
        {
          "name": "stdout",
          "output_type": "stream",
          "text": [
            "산토끼 는 없어져요.\n",
            "이승열\n",
            "학번: 211833\n"
          ]
        }
      ],
      "source": [
        "#[3]\n",
        "\n",
        "class Rabbit:\n",
        "    shape = \"\"\n",
        "\n",
        "    def __del__(self):\n",
        "        print(self.shape, \"는 없어져요.\")\n",
        "\n",
        "\n",
        "rabbit = Rabbit()\n",
        "rabbit.shape = \"산토끼\"\n",
        "del rabbit\n",
        "print(\"이승열\")\n",
        "print(\"학번: 211833\")"
      ]
    },
    {
      "cell_type": "code",
      "execution_count": 18,
      "metadata": {
        "colab": {
          "base_uri": "https://localhost:8080/"
        },
        "id": "fgMTFKYhNfHs",
        "outputId": "4066cd93-0cd9-4b63-e123-b7f3792af289"
      },
      "outputs": [
        {
          "name": "stdout",
          "output_type": "stream",
          "text": [
            "산토끼 와 집토끼 가 친구가 되었습니다.\n",
            "집토끼 와 산토끼 가 친구가 되었습니다.\n",
            "이승열\n",
            "학번: 211833\n"
          ]
        }
      ],
      "source": [
        "#[3]\n",
        "\n",
        "class Rabbit:\n",
        "    shape = \"\"\n",
        "\n",
        "    def __add__(self, other):\n",
        "        print(self.shape, \"와\", other.shape, \"가 친구가 되었습니다.\")\n",
        "\n",
        "\n",
        "rabbit1 = Rabbit()\n",
        "rabbit1.shape = \"산토끼\"\n",
        "rabbit2 = Rabbit()\n",
        "rabbit2.shape = \"집토끼\"\n",
        "\n",
        "rabbit1 + rabbit2\n",
        "rabbit2 + rabbit1\n",
        "print(\"이승열\")\n",
        "print(\"학번: 211833\")"
      ]
    },
    {
      "cell_type": "code",
      "execution_count": 31,
      "metadata": {
        "colab": {
          "base_uri": "https://localhost:8080/"
        },
        "id": "H-PfEvNKNfKO",
        "outputId": "8fc38251-ebf6-4a35-bb95-cf9169268bd9"
      },
      "outputs": [
        {
          "name": "stdout",
          "output_type": "stream",
          "text": [
            "선1의 길이 입력: 10\n",
            "10 길이의 선 생성!\n",
            "선2의 길이 입력: 20\n",
            "20 길이의 선 생성!\n",
            "30 길이의 선 생성!\n",
            "두 선의 길이의 합: 30\n",
            "선2가 더 깁니다.\n",
            "이승열\n",
            "학번: 211833\n"
          ]
        }
      ],
      "source": [
        "#[4]\n",
        "\n",
        "class Line:\n",
        "    \"\"\"길이를 표현하는 선(Line) 객체.\n",
        "    +, >, == 연산자를 오버로드해 합산과 비교를 지원한다.\n",
        "    \"\"\"\n",
        "\n",
        "    def __init__(self, length: int):\n",
        "        self.length = length\n",
        "        print(self.length, \"길이의 선 생성!\")\n",
        "\n",
        "    # 두 선을 더하면 길이를 합친 새로운 Line 객체 반환\n",
        "    def __add__(self, other: \"Line\") -> \"Line\":\n",
        "        return Line(self.length + other.length)\n",
        "\n",
        "    # 크기 비교(>) 연산자\n",
        "    def __gt__(self, other: \"Line\") -> bool:\n",
        "        return self.length > other.length\n",
        "\n",
        "    # 같음(==) 연산자\n",
        "    def __eq__(self, other: \"Line\") -> bool:\n",
        "        return self.length == other.length\n",
        "\n",
        "\n",
        "line1 = Line(int(input(\"선1의 길이 입력: \")))\n",
        "line2 = Line(int(input(\"선2의 길이 입력: \")))\n",
        "\n",
        "# 두 선의 길이를 합친 새로운 선\n",
        "line3 = line1 + line2\n",
        "print(\"두 선의 길이의 합:\", line3.length)\n",
        "\n",
        "# 길이 비교\n",
        "if line1 > line2:\n",
        "    print(\"선1이 더 깁니다.\")\n",
        "elif line1 == line2:\n",
        "    print(\"선1과 선2의 길이가 같습니다.\")\n",
        "else:\n",
        "    print(\"선2가 더 깁니다.\")\n",
        "print(\"이승열\")\n",
        "print(\"학번: 211833\")"
      ]
    },
    {
      "cell_type": "code",
      "execution_count": 32,
      "metadata": {
        "colab": {
          "base_uri": "https://localhost:8080/"
        },
        "id": "j7Ff1Q2NNfM0",
        "outputId": "13b4e0e6-02c7-4d99-bd73-1fb33d94fc64"
      },
      "outputs": [
        {
          "name": "stdout",
          "output_type": "stream",
          "text": [
            "{'__module__': '__main__', 'shape': '', 'xPos': 0, 'yPos': 0, 'goto': <function Rabbit.goto at 0x7eac404e94e0>, '__dict__': <attribute '__dict__' of 'Rabbit' objects>, '__weakref__': <attribute '__weakref__' of 'Rabbit' objects>, '__doc__': None}\n",
            "{'__module__': '__main__', 'owner': '', 'eatFeed': <function HouseRabbit.eatFeed at 0x7eac404e9bc0>, '__doc__': None}\n",
            "{'__module__': '__main__', 'mountain': '', 'eatWildglass': <function MountainRabbit.eatWildglass at 0x7eac404ea020>, '__doc__': None}\n",
            "집토끼가 모이를 먹습니다\n",
            "산토끼가 들풀을 먹습니다\n",
            "10 , 20\n",
            "이승열\n",
            "학번: 211833\n"
          ]
        }
      ],
      "source": [
        "#[5]\n",
        "\n",
        "class Rabbit:\n",
        "    shape = \"\"\n",
        "    xPos = 0\n",
        "    yPos = 0\n",
        "\n",
        "    def goto(self, x, y):\n",
        "        self.xPos = x\n",
        "        self.yPos = y\n",
        "\n",
        "\n",
        "class HouseRabbit(Rabbit):\n",
        "    owner = \"\"  # HouseRabbit 전용 속성\n",
        "\n",
        "    def eatFeed(self):\n",
        "        print(\"집토끼가 모이를 먹습니다\")\n",
        "\n",
        "\n",
        "class MountainRabbit(Rabbit):\n",
        "    mountain = \"\"  # MountainRabbit 전용 속성\n",
        "\n",
        "    def eatWildglass(self):\n",
        "        print(\"산토끼가 들풀을 먹습니다\")\n",
        "\n",
        "\n",
        "rabbit = Rabbit()          # 슈퍼클래스 객체\n",
        "h_rabbit = HouseRabbit()    # 서브클래스 객체\n",
        "m_rabbit = MountainRabbit() # 서브클래스 객체\n",
        "\n",
        "# 클래스·인스턴스 속성 확인\n",
        "print(Rabbit.__dict__)\n",
        "print(HouseRabbit.__dict__)\n",
        "print(MountainRabbit.__dict__)\n",
        "\n",
        "# 서브클래스 전용 메서드 호출\n",
        "h_rabbit.eatFeed()\n",
        "m_rabbit.eatWildglass()\n",
        "\n",
        "# 슈퍼클래스 메서드 사용\n",
        "h_rabbit.goto(10, 20)\n",
        "print(h_rabbit.xPos, \",\", h_rabbit.yPos)\n",
        "print(\"이승열\")\n",
        "print(\"학번: 211833\")"
      ]
    },
    {
      "cell_type": "code",
      "execution_count": 33,
      "metadata": {
        "colab": {
          "base_uri": "https://localhost:8080/"
        },
        "id": "gvtg8mAsNfPG",
        "outputId": "05a228a8-2374-4e35-bb28-d2649fe50488"
      },
      "outputs": [
        {
          "name": "stdout",
          "output_type": "stream",
          "text": [
            "Rabbit.__init__\n",
            "HouseRabbit.__init__\n",
            "Rabbit.__init__\n",
            "집토끼\n",
            "홍길동\n",
            "이승열\n",
            "학번: 211833\n"
          ]
        }
      ],
      "source": [
        "#[6]\n",
        "\n",
        "class Rabbit:\n",
        "    shape = \"\"\n",
        "\n",
        "    def __init__(self, shape):      # Rabbit의 생성자\n",
        "        print(\"Rabbit.__init__\")\n",
        "        self.shape = shape\n",
        "\n",
        "\n",
        "class HouseRabbit(Rabbit):\n",
        "    owner = \"\"\n",
        "\n",
        "    def __init__(self, shape, owner):  # HouseRabbit의 생성자\n",
        "        print(\"HouseRabbit.__init__\")\n",
        "        super().__init__(shape)        # Rabbit의 생성자 호출\n",
        "        self.owner = owner\n",
        "\n",
        "\n",
        "rabbit = Rabbit(\"토끼\")\n",
        "h_rabbit = HouseRabbit(\"집토끼\", \"홍길동\")\n",
        "\n",
        "print(h_rabbit.shape)\n",
        "print(h_rabbit.owner)\n",
        "print(\"이승열\")\n",
        "print(\"학번: 211833\")"
      ]
    },
    {
      "cell_type": "code",
      "execution_count": 34,
      "metadata": {
        "colab": {
          "base_uri": "https://localhost:8080/"
        },
        "id": "SYSbEhLMNfSl",
        "outputId": "f46e3cfd-751f-4c2e-c7c7-7615061e5186"
      },
      "outputs": [
        {
          "name": "stdout",
          "output_type": "stream",
          "text": [
            "토끼가 밥을 먹어요\n",
            "토끼 밥은 당근이에요\n",
            "이승열\n",
            "학번: 211833\n"
          ]
        }
      ],
      "source": [
        "#[7]\n",
        "class Rabbit:\n",
        "    def eat(self):\n",
        "        print(\"토끼가 밥을 먹어요\")\n",
        "\n",
        "\n",
        "class HouseRabbit(Rabbit):\n",
        "    def eat(self):\n",
        "        super().eat()            # Rabbit의 eat 메서드 호출\n",
        "        print(\"토끼 밥은 당근이에요\")\n",
        "\n",
        "\n",
        "h_rabbit = HouseRabbit()\n",
        "h_rabbit.eat()\n",
        "print(\"이승열\")\n",
        "print(\"학번: 211833\")"
      ]
    },
    {
      "cell_type": "code",
      "execution_count": 35,
      "metadata": {
        "colab": {
          "base_uri": "https://localhost:8080/"
        },
        "id": "zlGlsMt3TH_c",
        "outputId": "1395a61a-2a81-4bc6-bb7c-06af32d707a1"
      },
      "outputs": [
        {
          "name": "stdout",
          "output_type": "stream",
          "text": [
            "홍길동 , 무등산\n",
            "토끼파티를 열었어요\n",
            "토끼가 당근을 먹어요\n",
            "[<class '__main__.RabbitParty'>, <class '__main__.HouseRabbit'>, <class '__main__.MountainRabbit'>, <class '__main__.Rabbit'>, <class 'object'>]\n",
            "[<class '__main__.RabbitParty'>, <class '__main__.MountainRabbit'>, <class '__main__.HouseRabbit'>, <class '__main__.Rabbit'>, <class 'object'>]\n",
            "이승열\n",
            "학번: 211833\n"
          ]
        }
      ],
      "source": [
        "#[8]\n",
        "class Rabbit:\n",
        "    def eat(self):\n",
        "        print(\"토끼가 밥을 먹어요\")\n",
        "\n",
        "\n",
        "class HouseRabbit(Rabbit):\n",
        "    owner = \"홍길동\"\n",
        "\n",
        "    def eat(self):\n",
        "        print(\"토끼가 당근을 먹어요\")\n",
        "\n",
        "\n",
        "class MountainRabbit(Rabbit):\n",
        "    mountain = \"무등산\"\n",
        "\n",
        "    def eat(self):\n",
        "        print(\"토끼가 풀을 먹어요\")\n",
        "\n",
        "\n",
        "class RabbitParty(HouseRabbit, MountainRabbit):\n",
        "    def party(self):\n",
        "        print(\"토끼파티를 열었어요\")\n",
        "\n",
        "\n",
        "p = RabbitParty()\n",
        "print(p.owner, \",\", p.mountain)  # 여러 슈퍼 클래스 속성 상속 받음\n",
        "p.party()                        # 서브클래스에서 정의된 메소드\n",
        "p.eat()                          # 어떤 슈퍼클래스의 메소드가 호출될까?\n",
        "\n",
        "class RabbitParty(HouseRabbit, MountainRabbit):\n",
        "    def party(self):\n",
        "        print(\"토끼파티를열었어요\")\n",
        "\n",
        "\n",
        "print(RabbitParty.mro())\n",
        "\n",
        "class RabbitParty(MountainRabbit, HouseRabbit):\n",
        "    def party(self):\n",
        "        print(\"토끼파티를열었어요\")\n",
        "\n",
        "\n",
        "print(RabbitParty.mro())\n",
        "print(\"이승열\")\n",
        "print(\"학번: 211833\")"
      ]
    },
    {
      "cell_type": "code",
      "execution_count": 1,
      "metadata": {
        "colab": {
          "base_uri": "https://localhost:8080/",
          "height": 411
        },
        "id": "MSvhqS3eTIJ2",
        "outputId": "d414bd99-031f-41bc-c9f7-27c0e97f313a"
      },
      "outputs": [
        {
          "name": "stdout",
          "output_type": "stream",
          "text": [
            "0 1 0\n",
            "0 1 0\n",
            "0 1 0\n",
            "이승열\n",
            "학번: 211833\n"
          ]
        }
      ],
      "source": [
        "#[9]\n",
        "import tkinter as tk\n",
        "from tkinter import messagebox\n",
        "\n",
        "root = tk.Tk()\n",
        "\n",
        "var1, var2, var3 = tk.IntVar(), tk.IntVar(), tk.IntVar()\n",
        "\n",
        "def myapple():  # 사과 체크박스 연결 함수\n",
        "    if var1.get() == 0:\n",
        "        messagebox.showinfo(\"메시지 박스\", \"사과 해제\")\n",
        "    else:\n",
        "        messagebox.showinfo(\"메시지 박스\", \"사과 선택\")\n",
        "\n",
        "cb1 = tk.Checkbutton(root, text=\"사과\", variable=var1, command=myapple)\n",
        "cb2 = tk.Checkbutton(root, text=\"포도\", variable=var2)\n",
        "cb3 = tk.Checkbutton(root, text=\"수박\", variable=var3)\n",
        "\n",
        "def myfunc():  # 확인 버튼 연결 함수\n",
        "    print(var1.get(), var2.get(), var3.get())\n",
        "\n",
        "button1 = tk.Button(root, text=\"확인\", command=myfunc)\n",
        "\n",
        "cb1.pack()\n",
        "cb2.pack()\n",
        "cb3.pack()\n",
        "button1.pack()\n",
        "\n",
        "root.mainloop()\n",
        "print(\"이승열\")\n",
        "print(\"학번: 211833\")"
      ]
    },
    {
      "cell_type": "code",
      "execution_count": 2,
      "metadata": {
        "colab": {
          "base_uri": "https://localhost:8080/",
          "height": 392
        },
        "id": "aQUsKdOPsWiS",
        "outputId": "ee81e7f1-c41c-4897-d7e4-d72a97cc25f4"
      },
      "outputs": [
        {
          "name": "stdout",
          "output_type": "stream",
          "text": [
            "이승열\n",
            "학번: 211833\n"
          ]
        }
      ],
      "source": [
        "#[10]\n",
        "import tkinter as tk\n",
        "\n",
        "root = tk.Tk()\n",
        "\n",
        "label1 = tk.Label(root, text=\"선택한 차량 :\", fg=\"red\")\n",
        "\n",
        "\n",
        "def myfunc():  # 각 라디오 버튼과 연결할 함수\n",
        "    if myvar.get() == 1:\n",
        "        label1.configure(text=\"선택한 차량: 벤츠\")\n",
        "    elif myvar.get() == 2:\n",
        "        label1.configure(text=\"선택한 차량: 아우디\")\n",
        "    else:\n",
        "        label1.configure(text=\"선택한 차량: 현대\")\n",
        "\n",
        "\n",
        "myvar = tk.IntVar()  # 라디오 버튼을 연결할 변수 생성\n",
        "\n",
        "rb1 = tk.Radiobutton(root, text=\"벤츠\", variable=myvar, value=1, command=myfunc)\n",
        "rb2 = tk.Radiobutton(root, text=\"아우디\", variable=myvar, value=2, command=myfunc)\n",
        "rb3 = tk.Radiobutton(root, text=\"현대\", variable=myvar, value=3, command=myfunc)\n",
        "\n",
        "rb1.pack()\n",
        "rb2.pack()\n",
        "rb3.pack()\n",
        "label1.pack()\n",
        "\n",
        "root.mainloop()\n",
        "print(\"이승열\")\n",
        "print(\"학번: 211833\")"
      ]
    },
    {
      "cell_type": "code",
      "execution_count": 3,
      "metadata": {
        "colab": {
          "base_uri": "https://localhost:8080/",
          "height": 392
        },
        "id": "11w5XnnlTIMO",
        "outputId": "2719b178-9a39-4cba-ef56-73c18645ca2b"
      },
      "outputs": [
        {
          "name": "stdout",
          "output_type": "stream",
          "text": [
            "이승열\n",
            "학번: 211833\n"
          ]
        }
      ],
      "source": [
        "#[11]\n",
        "\n",
        "import tkinter as tk\n",
        "\n",
        "root = tk.Tk()\n",
        "\n",
        "label1 = tk.Label(root, text=\"입력내용:\")\n",
        "myEntry = tk.Entry(root, width=30)\n",
        "\n",
        "def myfunc():\n",
        "    in_text = \"입력내용:\" + myEntry.get()  # Entry에서 내용 가져오기\n",
        "    label1.configure(text=in_text)\n",
        "\n",
        "bt1 = tk.Button(root, text=\"확인\", command=myfunc)\n",
        "\n",
        "label1.pack()\n",
        "myEntry.pack()\n",
        "bt1.pack()\n",
        "\n",
        "root.mainloop()\n",
        "print(\"이승열\")\n",
        "print(\"학번: 211833\")"
      ]
    },
    {
      "cell_type": "code",
      "execution_count": 4,
      "metadata": {
        "colab": {
          "base_uri": "https://localhost:8080/",
          "height": 392
        },
        "id": "0jvLo_bVTIOJ",
        "outputId": "a457411b-a66a-41c8-904d-d27585a4b0c9"
      },
      "outputs": [
        {
          "name": "stdout",
          "output_type": "stream",
          "text": [
            "이승열\n",
            "학번: 211833\n"
          ]
        }
      ],
      "source": [
        "#[12]\n",
        "\n",
        "import tkinter as tk\n",
        "\n",
        "root = tk.Tk()\n",
        "root.geometry(\"300x300\")\n",
        "root.resizable(width=False, height=False)\n",
        "\n",
        "label1 = tk.Label(root, text=\"마우스 이벤트\")\n",
        "\n",
        "def clickMouse(event):\n",
        "    if event.num == 1:\n",
        "        msg = f\"왼쪽 버튼: ({event.x}, {event.y})\"\n",
        "    elif event.num == 3:\n",
        "        msg = f\"오른쪽 버튼: ({event.x}, {event.y})\"\n",
        "    else:\n",
        "        msg = f\"가운데 버튼: ({event.x}, {event.y})\"\n",
        "    label1.config(text=msg)\n",
        "\n",
        "label1.pack(expand=1, anchor=tk.CENTER)\n",
        "root.bind(\"<Button>\", clickMouse)\n",
        "root.mainloop()\n",
        "print(\"이승열\")\n",
        "print(\"학번: 211833\")"
      ]
    },
    {
      "cell_type": "code",
      "execution_count": 5,
      "metadata": {
        "colab": {
          "base_uri": "https://localhost:8080/",
          "height": 392
        },
        "id": "OA7vSj1qTIQS",
        "outputId": "2d7515b7-c501-42d3-e995-ca24190b601b"
      },
      "outputs": [
        {
          "name": "stdout",
          "output_type": "stream",
          "text": [
            "이승열\n",
            "학번: 211833\n"
          ]
        }
      ],
      "source": [
        "#[12]\n",
        "import tkinter as tk\n",
        "\n",
        "prevx = prevy = 0        # 직전 좌표\n",
        "pensize = 3              # 기본 펜 굵기\n",
        "color = \"black\"          # 기본 색상\n",
        "\n",
        "def onStart(event):\n",
        "    global prevx, prevy\n",
        "    prevx, prevy = event.x, event.y\n",
        "\n",
        "def onDraw(event):\n",
        "    global prevx, prevy\n",
        "    canvas.create_line(prevx, prevy, event.x, event.y,\n",
        "                       width=pensize, fill=color)\n",
        "    prevx, prevy = event.x, event.y\n",
        "\n",
        "def set_color(new_color):\n",
        "    global color\n",
        "    color = new_color\n",
        "\n",
        "def set_size(new_size):\n",
        "    global pensize\n",
        "    pensize = new_size\n",
        "\n",
        "root = tk.Tk()\n",
        "root.geometry(\"400x400\")\n",
        "\n",
        "canvas = tk.Canvas(root, width=400, height=350, bg=\"beige\")\n",
        "canvas.grid(row=0, column=0, columnspan=4)\n",
        "\n",
        "canvas.bind(\"<ButtonPress-1>\", onStart)\n",
        "canvas.bind(\"<B1-Motion>\", onDraw)\n",
        "\n",
        "tk.Button(root, text=\"파랑\", command=lambda: set_color(\"blue\")).grid(row=1, column=0)\n",
        "tk.Button(root, text=\"빨강\", command=lambda: set_color(\"red\")).grid(row=1, column=1)\n",
        "tk.Button(root, text=\"일반굵기\", command=lambda: set_size(3)).grid(row=1, column=2)\n",
        "tk.Button(root, text=\"가는굵기\", command=lambda: set_size(1)).grid(row=1, column=3)\n",
        "\n",
        "root.mainloop()\n",
        "print(\"이승열\")\n",
        "print(\"학번: 211833\")"
      ]
    },
    {
      "cell_type": "code",
      "execution_count": 6,
      "metadata": {
        "colab": {
          "base_uri": "https://localhost:8080/",
          "height": 392
        },
        "id": "bN5yKg79TISn",
        "outputId": "67a6f1d8-5070-4e5a-dbd0-ccc159a5fdfe"
      },
      "outputs": [
        {
          "name": "stdout",
          "output_type": "stream",
          "text": [
            "파일을 엽니다\n",
            "이승열\n",
            "학번: 211833\n"
          ]
        }
      ],
      "source": [
        "#[14]\n",
        "import tkinter as tk\n",
        "\n",
        "root = tk.Tk()\n",
        "\n",
        "def myfunc():\n",
        "    print(\"파일을 엽니다\")\n",
        "\n",
        "def func_exit():\n",
        "    root.quit()\n",
        "    root.destroy()\n",
        "\n",
        "# 메뉴 생성 및 윈도우에 할당\n",
        "main_menu = tk.Menu(root)\n",
        "root.config(menu=main_menu)\n",
        "\n",
        "file_menu = tk.Menu(main_menu, tearoff=False)\n",
        "main_menu.add_cascade(label=\"파일\", menu=file_menu)\n",
        "\n",
        "file_menu.add_command(label=\"열기\", command=myfunc)  # 하위 메뉴\n",
        "file_menu.add_separator()                           # 구분선\n",
        "file_menu.add_command(label=\"종료\", command=func_exit)\n",
        "\n",
        "root.mainloop()\n",
        "print(\"이승열\")\n",
        "print(\"학번: 211833\")"
      ]
    },
    {
      "cell_type": "code",
      "execution_count": 18,
      "metadata": {
        "colab": {
          "base_uri": "https://localhost:8080/",
          "height": 224
        },
        "id": "EyIetXy1TIUw",
        "outputId": "61ac167d-e5fb-4abf-ef6b-9f69de6b089b"
      },
      "outputs": [
        {
          "name": "stdout",
          "output_type": "stream",
          "text": [
            "이승열\n",
            "학번: 211833\n"
          ]
        }
      ],
      "source": [
        "#[15]\n",
        "import turtle as t     # ① turtle을 t라는 별칭으로 임포트\n",
        "\n",
        "# 캔버스(창) 크기와 배경색 등은 필요에 따라 조정\n",
        "t.setup(600, 600)      # 창 크기(선택 사항)\n",
        "\n",
        "t.reset()              # 캔버스 초기화\n",
        "t.speed(0)             # 그리기 속도 최대로\n",
        "t.pd()                 # pen down\n",
        "\n",
        "# 첫 번째 반원\n",
        "t.pensize(3)\n",
        "t.pencolor(\"blue\")\n",
        "t.fillcolor(\"yellow\")\n",
        "t.begin_fill()\n",
        "t.circle(100, 180)\n",
        "t.end_fill()\n",
        "\n",
        "# 두 번째 반원\n",
        "t.pensize(5)\n",
        "t.pencolor(\"green\")\n",
        "t.fillcolor(\"red\")\n",
        "t.begin_fill()\n",
        "t.circle(100, 180)     # 반원을 같은 방향으로 그리면 겹치므로,\n",
        "# t.circle(-100, 180)  # ← 반대 방향으로 그려도 OK\n",
        "t.end_fill()\n",
        "\n",
        "# 직사각형\n",
        "t.fillcolor(\"orange\")  # 원하는 색으로 변경\n",
        "t.begin_fill()\n",
        "t.fd(100)\n",
        "t.lt(90)\n",
        "t.fd(200)\n",
        "t.end_fill()\n",
        "\n",
        "print(\"이승열\")\n",
        "print(\"학번: 211833\")\n",
        "\n",
        "t.done()               # ② 창이 바로 닫히지 않도록 이벤트 루프 유지\n",
        "\n"
      ]
    },
    {
      "cell_type": "code",
      "execution_count": 12,
      "metadata": {
        "colab": {
          "base_uri": "https://localhost:8080/",
          "height": 416
        },
        "id": "J0lxZpQ8TIW-",
        "outputId": "55f43228-2d18-4f27-c4d2-a61fcc8babb9"
      },
      "outputs": [
        {
          "name": "stdout",
          "output_type": "stream",
          "text": [
            "이승열\n",
            "학번: 211833\n"
          ]
        }
      ],
      "source": [
        "#[16]\n",
        "import turtle as t\n",
        "import random\n",
        "\n",
        "colorList = [\"red\", \"green\", \"blue\", \"black\", \"orange\"]\n",
        "tMove = []                # (x, y, color) 정보를 저장\n",
        "\n",
        "def randomDraw():\n",
        "    global tMove\n",
        "    tMove.clear()\n",
        "    t.reset()\n",
        "    t.pensize()\n",
        "    for _ in range(20):\n",
        "        x = random.randint(-250, 250)\n",
        "        y = random.randint(-250, 250)\n",
        "        color = random.choice(colorList)\n",
        "        tMove.append((x, y, color))\n",
        "        t.pencolor(color)\n",
        "        t.goto(x, y)\n",
        "\n",
        "def reDraw():\n",
        "    global tMove\n",
        "    t.reset()\n",
        "    t.pensize(5)\n",
        "    for x, y, color in tMove:\n",
        "        t.pencolor(color)\n",
        "        t.goto(x, y)\n",
        "\n",
        "t.setup(550, 550)\n",
        "t.screensize(500, 500)\n",
        "\n",
        "randomDraw()\n",
        "reDraw()\n",
        "reDraw()\n",
        "randomDraw()\n",
        "reDraw()\n",
        "\n",
        "t.bye()\n",
        "print(\"이승열\")\n",
        "print(\"학번: 211833\")"
      ]
    },
    {
      "cell_type": "code",
      "execution_count": 23,
      "metadata": {
        "id": "OdCfAyj0TIZI"
      },
      "outputs": [
        {
          "name": "stdout",
          "output_type": "stream",
          "text": [
            "이승열\n",
            "학번: 211833\n"
          ]
        }
      ],
      "source": [
        "#[16]\n",
        "import turtle as t\n",
        "import random\n",
        "\n",
        "# 색상 목록과 이동 기록을 저장할 리스트\n",
        "color_list = [\"red\", \"green\", \"blue\", \"black\", \"orange\"]\n",
        "t_moves = []          # (x, y, color) 튜플을 저장\n",
        "\n",
        "def random_draw() -> None:\n",
        "    \"\"\"거북이를 무작위 위치로 이동하며 선을 그립니다.\"\"\"\n",
        "    t_moves.clear()\n",
        "    t.reset()\n",
        "    t.pensize(1)      # 기본 펜 두께\n",
        "    for _ in range(20):\n",
        "        x = random.randint(-250, 250)\n",
        "        y = random.randint(-250, 250)\n",
        "        color = random.choice(color_list)\n",
        "\n",
        "        t_moves.append((x, y, color))\n",
        "        t.pencolor(color)\n",
        "        t.goto(x, y)\n",
        "\n",
        "def re_draw() -> None:\n",
        "    \"\"\"저장된 좌표와 색상 정보를 이용해 다시 그립니다.\"\"\"\n",
        "    t.reset()\n",
        "    t.pensize(5)      # 두꺼운 선으로 재그리기\n",
        "    for x, y, color in t_moves:\n",
        "        t.pencolor(color)\n",
        "        t.goto(x, y)\n",
        "\n",
        "if __name__ == \"__main__\":\n",
        "    t.setup(550, 550)\n",
        "    t.screensize(500, 500)\n",
        "\n",
        "    # 예시 실행\n",
        "    random_draw()  # 최초 무작위 그리기\n",
        "    re_draw()      # 두꺼운 선으로 다시 그리기\n",
        "\n",
        "    # 창을 닫지 않고 유지\n",
        "    t.done()\n",
        "\n",
        "\n",
        "print(\"이승열\")\n",
        "print(\"학번: 211833\")"
      ]
    },
    {
      "cell_type": "code",
      "execution_count": 26,
      "metadata": {
        "id": "9FGuRU5uTIb3"
      },
      "outputs": [
        {
          "name": "stdout",
          "output_type": "stream",
          "text": [
            "홀수입니다. 결과: 8\n",
            "짝수입니다. 결과: 2\n",
            "짝수입니다. 결과: 2\n",
            "프로그램을 종료합니다.\n",
            "이승열\n",
            "학번: 211833\n"
          ]
        }
      ],
      "source": [
        "# Homework 05‑1\n",
        "\n",
        "\n",
        "while True:\n",
        "    user_input = input(\"숫자를 입력하세요 (끝 입력 시 종료): \").strip()\n",
        "\n",
        "    if user_input == \"끝\":\n",
        "        print(\"프로그램을 종료합니다.\")\n",
        "        break\n",
        "\n",
        "    # 숫자 여부 검사\n",
        "    if not user_input.lstrip(\"-\").isdigit():   # 음수도 허용\n",
        "        print(\"⚠️  정수를 입력해주세요!\")\n",
        "        continue\n",
        "\n",
        "    number = int(user_input)\n",
        "\n",
        "    if number % 2 == 0:            # 짝수\n",
        "        print(\"짝수입니다. 결과:\", number // 2)\n",
        "    else:                          # 홀수\n",
        "        print(\"홀수입니다. 결과:\", number + 3)\n",
        "print(\"이승열\")\n",
        "print(\"학번: 211833\")\n"
      ]
    },
    {
      "cell_type": "code",
      "execution_count": 27,
      "metadata": {},
      "outputs": [
        {
          "name": "stdout",
          "output_type": "stream",
          "text": [
            "    *    \n",
            "   ***   \n",
            "  *****  \n",
            " ******* \n",
            "*********\n",
            "\n",
            "*********\n",
            " ******* \n",
            "  *****  \n",
            "   ***   \n",
            "    *    \n",
            "\n",
            "*\n",
            "**\n",
            "***\n",
            "****\n",
            "*****\n",
            "\n",
            "   *   \n",
            "  ***  \n",
            " ***** \n",
            "*******\n",
            " ***** \n",
            "  ***  \n",
            "   *   \n",
            "\n",
            "프로그램을 종료합니다.\n",
            "이승열\n",
            "학번: 211833\n"
          ]
        }
      ],
      "source": [
        "# Homework 05-2\n",
        "\n",
        "\n",
        "def pyramid(n: int) -> None:\n",
        "    \"\"\"위쪽이 뾰족한 피라미드\"\"\"\n",
        "    width = 2 * n - 1\n",
        "    for i in range(n):\n",
        "        stars = \"*\" * (2 * i + 1)\n",
        "        print(stars.center(width))\n",
        "\n",
        "def inverted_pyramid(n: int) -> None:\n",
        "    \"\"\"역(거꾸로) 피라미드\"\"\"\n",
        "    width = 2 * n - 1\n",
        "    for i in range(n - 1, -1, -1):\n",
        "        stars = \"*\" * (2 * i + 1)\n",
        "        print(stars.center(width))\n",
        "\n",
        "def right_triangle(n: int) -> None:\n",
        "    \"\"\"왼쪽 밑이 직각인 삼각형\"\"\"\n",
        "    for i in range(1, n + 1):\n",
        "        print(\"*\" * i)\n",
        "\n",
        "def diamond(n: int) -> None:\n",
        "    \"\"\"다이아몬드 (위·아래 피라미드 합치기)\"\"\"\n",
        "    width = 2 * n - 1\n",
        "    # 윗부분\n",
        "    for i in range(n):\n",
        "        stars = \"*\" * (2 * i + 1)\n",
        "        print(stars.center(width))\n",
        "    # 아랫부분\n",
        "    for i in range(n - 2, -1, -1):\n",
        "        stars = \"*\" * (2 * i + 1)\n",
        "        print(stars.center(width))\n",
        "\n",
        "SHAPES = {\n",
        "    \"피라미드\": pyramid,\n",
        "    \"역피라미드\": inverted_pyramid,\n",
        "    \"삼각형\": right_triangle,\n",
        "    \"다이아몬드\": diamond,\n",
        "}\n",
        "\n",
        "while True:\n",
        "    shape = input(\n",
        "        \"어떤 도형을 그릴까요? (피라미드/역피라미드/삼각형/다이아몬드/종료): \"\n",
        "    ).strip()\n",
        "\n",
        "    if shape == \"종료\":\n",
        "        print(\"프로그램을 종료합니다.\")\n",
        "        break\n",
        "\n",
        "    if shape not in SHAPES:\n",
        "        print(\"⚠️  지원하지 않는 도형입니다. 다시 선택해주세요.\")\n",
        "        continue\n",
        "\n",
        "    size_input = input(\"크기를 입력하세요 (양의 정수): \").strip()\n",
        "    if not size_input.isdigit() or int(size_input) <= 0:\n",
        "        print(\"⚠️  크기는 1 이상의 정수를 입력해야 합니다.\")\n",
        "        continue\n",
        "\n",
        "    size = int(size_input)\n",
        "    SHAPES[shape](size)   # 선택한 도형 함수 호출\n",
        "    print()               # 실행 후 한 줄 띄우기\n",
        "print(\"이승열\")\n",
        "print(\"학번: 211833\")\n"
      ]
    },
    {
      "cell_type": "code",
      "execution_count": 28,
      "metadata": {},
      "outputs": [
        {
          "name": "stdout",
          "output_type": "stream",
          "text": [
            "6.666666666666667\n"
          ]
        }
      ],
      "source": [
        "v = 15\n",
        "v = v-5\n",
        "v = v * 2\n",
        "v = v/ 3\n",
        "print(v)"
      ]
    }
  ],
  "metadata": {
    "colab": {
      "provenance": []
    },
    "kernelspec": {
      "display_name": "base",
      "language": "python",
      "name": "python3"
    },
    "language_info": {
      "codemirror_mode": {
        "name": "ipython",
        "version": 3
      },
      "file_extension": ".py",
      "mimetype": "text/x-python",
      "name": "python",
      "nbconvert_exporter": "python",
      "pygments_lexer": "ipython3",
      "version": "3.12.7"
    }
  },
  "nbformat": 4,
  "nbformat_minor": 0
}
