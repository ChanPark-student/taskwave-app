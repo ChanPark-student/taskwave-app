{
 "cells": [
  {
   "cell_type": "code",
   "execution_count": 18,
   "id": "34cb354c",
   "metadata": {},
   "outputs": [
    {
     "name": "stdout",
     "output_type": "stream",
     "text": [
      "제 이름은  이승열 이고, 연락처는 01020736631 입니다.\n",
      "이승열\n",
      "학번: 211833\n"
     ]
    }
   ],
   "source": [
    "#3-3-30\n",
    "userName = input(\"이름 ==> \")\n",
    "userPhone = input(\"전화번호 ==> \")\n",
    "print(\"제 이름은 \", userName, \"이고, 연락처는\", userPhone, \"입니다.\")\n",
    "print(\"이승열\")\n",
    "print(\"학번: 211833\")"
   ]
  },
  {
   "cell_type": "code",
   "execution_count": 19,
   "id": "4d30528c",
   "metadata": {},
   "outputs": [
    {
     "name": "stdout",
     "output_type": "stream",
     "text": [
      "True\n",
      "이승열\n",
      "학번: 211833\n"
     ]
    }
   ],
   "source": [
    "#4-1-9\n",
    "score = int(input(\"필기 시험점수를 입력하세요 ==>\"))\n",
    "print(score >= 70)\n",
    "print(\"이승열\")\n",
    "print(\"학번: 211833\")"
   ]
  },
  {
   "cell_type": "code",
   "execution_count": 20,
   "id": "b258fc65",
   "metadata": {},
   "outputs": [
    {
     "name": "stdout",
     "output_type": "stream",
     "text": [
      "오늘 총 매출액은  14300 원입니다.\n",
      "이승열\n",
      "학번: 211833\n"
     ]
    }
   ],
   "source": [
    "#4-1-16\n",
    "sales = 0\n",
    "sales -= 600*10   # 삼각김밥 (600원) 10개 구입\n",
    "sales -= 400*15   # 바나나우유 (400원) 15개 구입\n",
    "sales -= 500*20   # 콜라(500원) 20개 구입\n",
    "sales += 1200*10  # 삼각김밥(1200원) 10 개 판매\n",
    "sales += 1000*10  # 바나나우유 (1000원) 10개 판매\n",
    "sales += 1100*13  # 콜라(1100원) 13개 판매\n",
    "print(\"오늘 총 매출액은 \", sales,\"원입니다.\")\n",
    "print(\"이승열\")\n",
    "print(\"학번: 211833\")\n"
   ]
  },
  {
   "cell_type": "code",
   "execution_count": 21,
   "id": "ba81c2a6",
   "metadata": {},
   "outputs": [
    {
     "name": "stdout",
     "output_type": "stream",
     "text": [
      "False\n",
      "True\n",
      "True\n",
      "이승열\n",
      "학번: 211833\n"
     ]
    }
   ],
   "source": [
    "#4-1-26\n",
    "num = 99\n",
    "print((num > 100) and (num < 200)) # False\n",
    "print((num == 99) or (num == 100)) # True\n",
    "print(not(num == 100)) # True\n",
    "print(\"이승열\")\n",
    "print(\"학번: 211833\")"
   ]
  },
  {
   "cell_type": "code",
   "execution_count": 22,
   "id": "42481262",
   "metadata": {},
   "outputs": [
    {
     "name": "stdout",
     "output_type": "stream",
     "text": [
      "<class 'int'>\n",
      "<class 'float'>\n",
      "<class 'str'>\n",
      "<class 'bool'>\n",
      "<class 'str'>\n",
      "100000000000000000000000000000000000000000000000000000000000000000000000000000000000000000000000000000000000000000000000000000000000000000000000000000000000000000000000000000000000000000000000000000000\n",
      "300\n",
      "<class 'int'>\n",
      "300.0\n",
      "<class 'float'>\n",
      "300.0\n",
      "<class 'float'>\n",
      "0.5\n",
      "<class 'float'>\n",
      "이승열\n",
      "학번: 211833\n"
     ]
    }
   ],
   "source": [
    "#4-2-7\n",
    "# 7쪽: type() 함수를 이용한 데이터형 확인 [2]\n",
    "var1 = 100\n",
    "print(type(var1)) # <class 'int'>\n",
    "\n",
    "var2 = 3.14\n",
    "print(type(var2)) # <class 'float'>\n",
    "\n",
    "var3 = \"파이썬\"\n",
    "print(type(var3)) # <class 'str'>\n",
    "\n",
    "var4 = True\n",
    "print(type(var4)) # <class 'bool'>\n",
    "\n",
    "# 8쪽: 변수의 데이터형 변화 [2, 3]\n",
    "var1 = \"Hello\"\n",
    "print(type(var1)) # <class 'str'>\n",
    "\n",
    "# 9쪽: 정수형 크기 제한 없음 [3]\n",
    "var1 = 100**100\n",
    "print(var1)\n",
    "\n",
    "# 10쪽: 숫자 데이터형 연산 [4]\n",
    "var1_int = 100\n",
    "var2_int = 200\n",
    "res_int = var1_int + var2_int\n",
    "print(res_int) # 300\n",
    "print(type(res_int)) # <class 'int'>\n",
    "\n",
    "var1_float = 100.0\n",
    "var2_float = 200.0\n",
    "res_float = var1_float + var2_float\n",
    "print(res_float) # 300.0\n",
    "print(type(res_float)) # <class 'float'>\n",
    "\n",
    "var1_mix_int = 100\n",
    "var2_mix_float = 200.0\n",
    "res_mix = var1_mix_int + var2_mix_float\n",
    "print(res_mix) # 300.0\n",
    "print(type(res_mix)) # <class 'float'>\n",
    "\n",
    "var1_div = 100\n",
    "var2_div = 200\n",
    "res_div = var1_div / var2_div\n",
    "print(res_div) # 0.5\n",
    "print(type(res_div)) # <class 'float'>\n",
    "print(\"이승열\")\n",
    "print(\"학번: 211833\")"
   ]
  },
  {
   "cell_type": "code",
   "execution_count": 23,
   "id": "ad3c732c",
   "metadata": {},
   "outputs": [
    {
     "name": "stdout",
     "output_type": "stream",
     "text": [
      "\n",
      "줄바꿈\n",
      "연습 \n",
      "\t탭키\t연습\n",
      "어떤 글자를 \"강조\"하는 효과1\n",
      "어떤 글자를 '강조'하는 효과2\n",
      "\\\\ 백슬래시 2개 출력\n",
      "이승열\n",
      "학번: 211833\n"
     ]
    }
   ],
   "source": [
    "#4-3-6\n",
    "print(\"\\n줄바꿈\\n연습 \")\n",
    "print(\"\\t탭키\\t연습\")\n",
    "print(\"어떤 글자를 \\\"강조\\\"하는 효과1\")\n",
    "print(\"어떤 글자를 \\'강조\\'하는 효과2\")\n",
    "print(\"\\\\\\\\ 백슬래시 2개 출력\")\n",
    "print(\"이승열\")\n",
    "print(\"학번: 211833\")\n",
    "# 추가: 오류 발생 코드 (참고용, 실제 실행 시 오류 발생) [5]\n",
    "# print(\"\\안녕하세요\") # SyntaxError: (unicode error) 'unicodeescape' codec can't decode bytes\n",
    "# print(\"\\ \") # SyntaxError: unexpected character after line continuation character\n",
    "# print(\"\\\") # SyntaxError: EOL while scanning string literal"
   ]
  },
  {
   "cell_type": "code",
   "execution_count": 24,
   "id": "3d63d22f",
   "metadata": {},
   "outputs": [
    {
     "name": "stdout",
     "output_type": "stream",
     "text": [
      "두 문자열의 길이 차이는 2 입니다.\n",
      "이승열\n",
      "학번: 211833\n"
     ]
    }
   ],
   "source": [
    "#4-3-12\n",
    "var1 = input(\"첫 번째 문자열 ==>\")\n",
    "var2 = input(\"두 번째 문자열 ==>\")\n",
    "\n",
    "len1 = len(var1)\n",
    "len2 = len(var2)\n",
    "\n",
    "diff = len1 - len2\n",
    "\n",
    "print(\"두 문자열의 길이 차이는\", diff, \"입니다.\")\n",
    "print(\"이승열\")\n",
    "print(\"학번: 211833\")"
   ]
  },
  {
   "cell_type": "code",
   "execution_count": 25,
   "id": "3500762b",
   "metadata": {},
   "outputs": [
    {
     "name": "stdout",
     "output_type": "stream",
     "text": [
      "원본 : 반가워요\n",
      "거꾸로 : 요워가반\n",
      "이승열\n",
      "학번: 211833\n"
     ]
    }
   ],
   "source": [
    "#4-3-20\n",
    "ss = input(\"길이가 4인 문자열을 입력해주세요 :\")\n",
    "print(\"원본 :\", ss)\n",
    "\n",
    "ss_r = ss[3]+ss[2]+ss[1]+ss[0]\n",
    "print(\"거꾸로 :\", ss_r)\n",
    "print(\"이승열\")\n",
    "print(\"학번: 211833\")"
   ]
  },
  {
   "cell_type": "code",
   "execution_count": 26,
   "id": "6a55c002",
   "metadata": {},
   "outputs": [
    {
     "name": "stdout",
     "output_type": "stream",
     "text": [
      "① 첫 번째 문자열 길이: 5\n",
      "   두 번째 문자열 길이: 5\n",
      "② 두 문자열 길이 차이: 0\n",
      "③ 연결된 문자열: helloworld\n",
      "④ 거꾸로 출력: dlrowolleh\n",
      "이승열\n",
      "학번: 211833\n"
     ]
    }
   ],
   "source": [
    "# Homework 02-1\n",
    "\n",
    "# 1) 두 문자열 입력\n",
    "str1 = input(\"첫 번째 문자열을 입력하세요: \")\n",
    "str2 = input(\"두 번째 문자열을 입력하세요: \")\n",
    "\n",
    "# 2) 각 문자열 길이\n",
    "len1 = len(str1)\n",
    "len2 = len(str2)\n",
    "print(f\"① 첫 번째 문자열 길이: {len1}\")\n",
    "print(f\"   두 번째 문자열 길이: {len2}\")\n",
    "\n",
    "# 3) 길이 차이\n",
    "print(f\"② 두 문자열 길이 차이: {abs(len1 - len2)}\")\n",
    "\n",
    "# 4) 두 문자열 연결\n",
    "combined = str1 + str2\n",
    "print(f\"③ 연결된 문자열: {combined}\")\n",
    "\n",
    "# 5) 연결된 문자열을 거꾸로 출력\n",
    "print(f\"④ 거꾸로 출력: {combined[::-1]}\")\n",
    "print(\"이승열\")\n",
    "print(\"학번: 211833\")"
   ]
  },
  {
   "cell_type": "code",
   "execution_count": 27,
   "id": "e2adb06e",
   "metadata": {},
   "outputs": [
    {
     "name": "stdout",
     "output_type": "stream",
     "text": [
      "① 합  : 30\n",
      "   차  : -10\n",
      "   곱  : 200\n",
      "   몫  : 0\n",
      "   나머지: 10\n",
      "② (합)의 제곱: 900\n",
      "이승열\n",
      "학번: 211833\n"
     ]
    }
   ],
   "source": [
    "\n",
    "# Homework 02-2\n",
    "\n",
    "# 1) 두 정수 입력\n",
    "a = int(input(\"\\n첫 번째 정수를 입력하세요: \"))\n",
    "b = int(input(\"두 번째 정수를 입력하세요: \"))\n",
    "\n",
    "# 2) 기본 사칙연산 및 나머지\n",
    "print(f\"① 합  : {a + b}\")\n",
    "print(f\"   차  : {a - b}\")\n",
    "print(f\"   곱  : {a * b}\")\n",
    "\n",
    "if b != 0:                      # 0으로 나눌 수 있는지 확인\n",
    "    print(f\"   몫  : {a // b}\")\n",
    "    print(f\"   나머지: {a % b}\")\n",
    "else:\n",
    "    print(\"   두 번째 숫자가 0이어서 몫과 나머지를 계산할 수 없습니다.\")\n",
    "\n",
    "# 3) (두 수의 합)²\n",
    "print(f\"② (합)의 제곱: {(a + b) ** 2}\")\n",
    "print(\"이승열\")\n",
    "print(\"학번: 211833\")"
   ]
  },
  {
   "cell_type": "code",
   "execution_count": null,
   "id": "01b3113e",
   "metadata": {},
   "outputs": [],
   "source": []
  },
  {
   "cell_type": "code",
   "execution_count": null,
   "id": "19c06e95",
   "metadata": {},
   "outputs": [],
   "source": []
  }
 ],
 "metadata": {
  "kernelspec": {
   "display_name": "base",
   "language": "python",
   "name": "python3"
  },
  "language_info": {
   "codemirror_mode": {
    "name": "ipython",
    "version": 3
   },
   "file_extension": ".py",
   "mimetype": "text/x-python",
   "name": "python",
   "nbconvert_exporter": "python",
   "pygments_lexer": "ipython3",
   "version": "3.12.7"
  }
 },
 "nbformat": 4,
 "nbformat_minor": 5
}
