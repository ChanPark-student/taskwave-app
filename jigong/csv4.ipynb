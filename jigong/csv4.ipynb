{
 "cells": [
  {
   "cell_type": "code",
   "execution_count": 1,
   "id": "45f998dc",
   "metadata": {},
   "outputs": [],
   "source": [
    "import csv\n",
    "\n",
    "seoung_nam_data= [ ]\n",
    "header = [ ]\n",
    "rownum= 0"
   ]
  },
  {
   "cell_type": "code",
   "execution_count": 2,
   "id": "69266e85",
   "metadata": {},
   "outputs": [],
   "source": [
    "with open(\"korea_floating_population_data.csv\",\"r\",encoding=\"cp949\") as p_file:\n",
    "    csv_data= csv.reader(p_file)\n",
    "    for row in csv_data:\n",
    "        if rownum== 0:\n",
    "            header = row\n",
    "        location = row[7]\n",
    "        if location.find(u\"성남시\")!=-1:\n",
    "            seoung_nam_data.append(row)\n",
    "rownum+=1"
   ]
  },
  {
   "cell_type": "code",
   "execution_count": 4,
   "id": "ed2411fb",
   "metadata": {},
   "outputs": [],
   "source": [
    "with open(\"seoung_nam_floating_population_data.csv\", \"w\", encoding=\"utf8\") as s_p_file:\n",
    "    writer = csv.writer(s_p_file, delimiter='\\t', quotechar=\"'\", quoting=csv.QUOTE_ALL) \n",
    "    writer.writerow(header)\n",
    "    \n",
    "    for row in seoung_nam_data:\n",
    "        writer.writerow(row)"
   ]
  }
 ],
 "metadata": {
  "kernelspec": {
   "display_name": "base",
   "language": "python",
   "name": "python3"
  },
  "language_info": {
   "codemirror_mode": {
    "name": "ipython",
    "version": 3
   },
   "file_extension": ".py",
   "mimetype": "text/x-python",
   "name": "python",
   "nbconvert_exporter": "python",
   "pygments_lexer": "ipython3",
   "version": "3.12.7"
  }
 },
 "nbformat": 4,
 "nbformat_minor": 5
}
