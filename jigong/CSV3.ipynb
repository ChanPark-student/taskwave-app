{
 "cells": [
  {
   "cell_type": "code",
   "execution_count": 45,
   "id": "504d6e9e",
   "metadata": {},
   "outputs": [],
   "source": [
    "line_counter= 0\n",
    "data_header= [ ]\n",
    "employee = [ ]\n",
    "customer_FRANCE_only_list= [ ]\n",
    "customer = None\n",
    "\n"
   ]
  },
  {
   "cell_type": "code",
   "execution_count": 46,
   "id": "926c9ae7",
   "metadata": {},
   "outputs": [],
   "source": [
    "with open(\"customers.csv\", \"r\") as customer_data:\n",
    "    while 1:\n",
    "        data = customer_data.readline()\n",
    "        if not data:\n",
    "            break\n",
    "        if line_counter == 0:\n",
    "            data_header = data.strip().split(\",\")\n",
    "        else:\n",
    "            customer = data.strip().split(\",\")\n",
    "            if len(customer) > 10 and customer[10].upper() == \"FRANCE\":\n",
    "                customer_FRANCE_only_list.append(customer)\n",
    "        line_counter += 1\n"
   ]
  },
  {
   "cell_type": "code",
   "execution_count": 47,
   "id": "9838f803",
   "metadata": {},
   "outputs": [
    {
     "name": "stdout",
     "output_type": "stream",
     "text": [
      "Header: ['customerNumber', 'customerName', 'contactLastName', 'contactFirstName', 'phone', 'addressLine1', 'addressLine2', 'city', 'state', 'postalCode', 'country', 'salesRepEmployeeNumber', 'creditLimit']\n",
      "Data: ['242', '\"Alpha Cognac\"', 'Roulet', '\"Annette \"', '61.77.6555', '\"1 rue Alsace-Lorraine\"', 'NULL', 'Toulouse', 'NULL', '31000', 'France', '1370', '61100']\n",
      "Data: ['250', '\"Lyon Souveniers\"', '\"Da Silva\"', 'Daniel', '\"+33 1 46 62 7555\"', '\"27 rue du Colonel Pierre Avia\"', 'NULL', 'Paris', 'NULL', '75508', 'France', '1337', '68100']\n",
      "Data: ['353', '\"Reims Collectables\"', 'Henriot', '\"Paul \"', '26.47.1555', '\"59 rue de l\\'Abbaye\"', 'NULL', 'Reims', 'NULL', '51100', 'France', '1337', '81100']\n",
      "3\n"
     ]
    }
   ],
   "source": [
    "print(\"Header:\", data_header)\n",
    "for i in range(min(3, len(customer_FRANCE_only_list))):\n",
    "    print(\"Data:\", customer_FRANCE_only_list[i]) \n",
    "print(len(customer_FRANCE_only_list))\n",
    "\n",
    "with open(\"customers_FRANCE_only.csv\",\"w\") as customer_FRANCE_only_csv:\n",
    "    for customer in customer_FRANCE_only_list:\n",
    "        customer_FRANCE_only_csv.write(\",\".join(customer).strip('\\n')+\"\\n\")"
   ]
  }
 ],
 "metadata": {
  "kernelspec": {
   "display_name": "base",
   "language": "python",
   "name": "python3"
  },
  "language_info": {
   "codemirror_mode": {
    "name": "ipython",
    "version": 3
   },
   "file_extension": ".py",
   "mimetype": "text/x-python",
   "name": "python",
   "nbconvert_exporter": "python",
   "pygments_lexer": "ipython3",
   "version": "3.12.7"
  }
 },
 "nbformat": 4,
 "nbformat_minor": 5
}
