{
 "cells": [
  {
   "cell_type": "code",
   "execution_count": 9,
   "id": "2a8c316f",
   "metadata": {},
   "outputs": [],
   "source": [
    "from math import pi\n",
    "\n",
    "\n",
    "class Shape:\n",
    "\n",
    "    def calculate_area(self):\n",
    "        pass\n",
    "\n"
   ]
  },
  {
   "cell_type": "code",
   "execution_count": 3,
   "id": "743b3f37",
   "metadata": {},
   "outputs": [],
   "source": [
    "\n",
    "class Circle(Shape):\n",
    "    def __init__(self, radius: float):\n",
    "        self.radius = radius\n",
    "\n",
    "    def calculate_area(self):\n",
    "        return pi * self.radius ** 2\n",
    "\n"
   ]
  },
  {
   "cell_type": "code",
   "execution_count": 4,
   "id": "6dd50f7c",
   "metadata": {},
   "outputs": [],
   "source": [
    "\n",
    "class Triangle(Shape):\n",
    "    def __init__(self, base: float, height: float):\n",
    "        self.base = base\n",
    "        self.height = height\n",
    "\n",
    "    def calculate_area(self):\n",
    "        return 0.5 * self.base * self.height\n"
   ]
  },
  {
   "cell_type": "code",
   "execution_count": 10,
   "id": "7f7fb51f",
   "metadata": {},
   "outputs": [],
   "source": [
    "\n",
    "\n",
    "class Rectangle(Shape):\n",
    "    def __init__(self, width: float, height: float):\n",
    "        self.width = width\n",
    "        self.height = height\n",
    "\n",
    "    def calculate_area(self):\n",
    "        return self.width * self.height\n",
    "\n"
   ]
  },
  {
   "cell_type": "code",
   "execution_count": 11,
   "id": "de2a5f0d",
   "metadata": {},
   "outputs": [],
   "source": [
    "\n",
    "class Trapezoid(Shape):\n",
    "    def __init__(self, base1: float, base2: float, height: float):\n",
    "        self.base1 = base1\n",
    "        self.base2 = base2\n",
    "        self.height = height\n",
    "\n",
    "    def calculate_area(self):\n",
    "        return 0.5 * (self.base1 + self.base2) * self.height\n"
   ]
  },
  {
   "cell_type": "code",
   "execution_count": 12,
   "id": "4247dec4",
   "metadata": {},
   "outputs": [
    {
     "name": "stdout",
     "output_type": "stream",
     "text": [
      "Circle     → 78.54\n",
      "Triangle   → 30.00\n",
      "Rectangle  → 32.00\n",
      "Trapezoid  → 40.00\n"
     ]
    }
   ],
   "source": [
    "if __name__ == \"__main__\":\n",
    "    shapes = [\n",
    "        Circle(5),\n",
    "        Triangle(10, 6),\n",
    "        Rectangle(8, 4),\n",
    "        Trapezoid(7, 9, 5),\n",
    "    ]\n",
    "\n",
    "    for s in shapes:\n",
    "        print(f\"{s.__class__.__name__:10} → {s.calculate_area():.2f}\")\n"
   ]
  }
 ],
 "metadata": {
  "kernelspec": {
   "display_name": "base",
   "language": "python",
   "name": "python3"
  },
  "language_info": {
   "codemirror_mode": {
    "name": "ipython",
    "version": 3
   },
   "file_extension": ".py",
   "mimetype": "text/x-python",
   "name": "python",
   "nbconvert_exporter": "python",
   "pygments_lexer": "ipython3",
   "version": "3.12.7"
  }
 },
 "nbformat": 4,
 "nbformat_minor": 5
}
