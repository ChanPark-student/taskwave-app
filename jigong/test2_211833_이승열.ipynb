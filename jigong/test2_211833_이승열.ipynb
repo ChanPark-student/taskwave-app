{
 "cells": [
  {
   "cell_type": "code",
   "execution_count": null,
   "id": "faf3fcdd",
   "metadata": {},
   "outputs": [],
   "source": [
    "class Car:\n",
    "\n",
    "    def __init__(self, brand: str, model: str):\n",
    "        self.brand = brand\n",
    "        self.model = model\n",
    "        self.running = False\n",
    "\n",
    "    def __str__(self):\n",
    "        return f\"{self.brand} {self.model}\"\n",
    "    \n",
    "    def start(self): \n",
    "        pass           \n",
    "    def stop(self):      \n",
    "        pass      \n",
    "    def refuel(self, amount):   \n",
    "        pass\n",
    "\n"
   ]
  },
  {
   "cell_type": "code",
   "execution_count": 4,
   "id": "a4371015",
   "metadata": {},
   "outputs": [],
   "source": [
    "\n",
    "class GasCar(Car):\n",
    "    def __init__(self, brand: str, model: str, fuel_level: float = 0):\n",
    "        super().__init__(brand, model)\n",
    "        self.fuel_level = fuel_level\n",
    "\n",
    "    def start(self):\n",
    "        if self.fuel_level <= 0:\n",
    "            raise RuntimeError(\"연료 부족!\")\n",
    "        self.running = True\n",
    "        print(f\"{self} 시동 ON (Gas)\")\n",
    "\n",
    "    def stop(self):\n",
    "        self.running = False\n",
    "        print(f\"{self} 시동 OFF\")\n",
    "\n",
    "    def refuel(self, amount: float):\n",
    "        self.fuel_level += amount\n",
    "        print(f\"{self} 주유 +{amount}L → 잔량 {self.fuel_level}L\")\n",
    "\n"
   ]
  },
  {
   "cell_type": "code",
   "execution_count": null,
   "id": "06abebfb",
   "metadata": {},
   "outputs": [],
   "source": [
    "\n",
    "class ElectricCar(Car):\n",
    "    def __init__(self, brand: str, model: str, battery: float = 0):\n",
    "        super().__init__(brand, model)\n",
    "        self.battery = battery \n",
    "\n",
    "    def start(self):\n",
    "        if self.battery <= 0:\n",
    "            raise RuntimeError(\"배터리 방전!\")\n",
    "        self.running = True\n",
    "        print(f\"{self} 시동 ON (EV)\")\n",
    "\n",
    "    def stop(self):\n",
    "        self.running = False\n",
    "        print(f\"{self} 시동 OFF\")\n",
    "\n",
    "    def refuel(self, amount: float):\n",
    "        self.battery += amount\n",
    "        print(f\"{self} 충전 +{amount}kWh → 잔량 {self.battery}kWh\")\n",
    "\n"
   ]
  },
  {
   "cell_type": "code",
   "execution_count": 6,
   "id": "2914f3f7",
   "metadata": {},
   "outputs": [],
   "source": [
    "\n",
    "\n",
    "class AutonomousElectricCar(ElectricCar):\n",
    "    def __init__(\n",
    "        self, brand: str, model: str, battery: float = 0, lidar_ok: bool = True\n",
    "    ):\n",
    "        super().__init__(brand, model, battery)\n",
    "        self.lidar_ok = lidar_ok\n",
    "\n",
    "    def start(self):\n",
    "        if not self.lidar_ok:\n",
    "            raise RuntimeError(\"LiDAR 오류!\")\n",
    "        super().start()\n",
    "        print(f\"{self} → 자율주행 모드 ON\")\n",
    "\n",
    "    def navigate(self, dest: str):\n",
    "        if not self.running:\n",
    "            raise RuntimeError(\"시동을 먼저 켜세요.\")\n",
    "        print(f\"{self}가 {dest}까지 자율 주행합니다.\")\n",
    "\n",
    "    def stop(self):\n",
    "        super().stop()\n",
    "        print(f\"{self} 자율주행 모드 OFF\")\n",
    "\n"
   ]
  },
  {
   "cell_type": "code",
   "execution_count": 7,
   "id": "c9bc78d1",
   "metadata": {},
   "outputs": [
    {
     "name": "stdout",
     "output_type": "stream",
     "text": [
      "Kia K3 시동 ON (Gas)\n",
      "Kia K3 주유 +10L → 잔량 40L\n",
      "Kia K3 시동 OFF\n",
      "\n",
      "Tesla Model X 시동 ON (EV)\n",
      "Tesla Model X → 자율주행 모드 ON\n",
      "Tesla Model X가 Busan까지 자율 주행합니다.\n",
      "Tesla Model X 충전 +20kWh → 잔량 100kWh\n",
      "Tesla Model X 시동 OFF\n",
      "Tesla Model X 자율주행 모드 OFF\n"
     ]
    }
   ],
   "source": [
    "if __name__ == \"__main__\":\n",
    "    k3 = GasCar(\"Kia\", \"K3\", fuel_level=30)\n",
    "    k3.start()\n",
    "    k3.refuel(10)\n",
    "    k3.stop()\n",
    "    print()\n",
    "\n",
    "    tesla = AutonomousElectricCar(\"Tesla\", \"Model X\", battery=80)\n",
    "    tesla.start()           \n",
    "    tesla.navigate(\"Busan\") \n",
    "    tesla.refuel(20)       \n",
    "    tesla.stop()           \n",
    "\n"
   ]
  }
 ],
 "metadata": {
  "kernelspec": {
   "display_name": "base",
   "language": "python",
   "name": "python3"
  },
  "language_info": {
   "codemirror_mode": {
    "name": "ipython",
    "version": 3
   },
   "file_extension": ".py",
   "mimetype": "text/x-python",
   "name": "python",
   "nbconvert_exporter": "python",
   "pygments_lexer": "ipython3",
   "version": "3.12.7"
  }
 },
 "nbformat": 4,
 "nbformat_minor": 5
}
